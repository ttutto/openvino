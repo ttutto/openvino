{
 "cells": [
  {
   "cell_type": "code",
   "execution_count": 5,
   "id": "2381a2ca",
   "metadata": {},
   "outputs": [
    {
     "name": "stderr",
     "output_type": "stream",
     "text": [
      "C:\\ProgramData\\Anaconda3\\envs\\Brain_AI\\lib\\site-packages\\ipykernel\\ipkernel.py:287: DeprecationWarning: `should_run_async` will not call `transform_cell` automatically in the future. Please pass the result to `transformed_cell` argument and any exception that happen during thetransform in `preprocessing_exc_tuple` in IPython 7.17 and above.\n",
      "  and should_run_async(code)\n",
      "C:\\Intel_JS\\openVINO\\utils\\opv.py:61: DeprecationWarning: Reading network using constructor is deprecated. Please, use IECore.read_network() method instead\n",
      "  net = IENetwork(model=model_xml, weights=model_bin)\n",
      "C:\\Intel_JS\\openVINO\\utils\\opv.py:65: DeprecationWarning: IEPlugin class is deprecated. Please use IECore class instead.\n",
      "  plugin = IEPlugin(device=device)\n"
     ]
    }
   ],
   "source": [
    "import cv2\n",
    "import numpy as np\n",
    "import argparse\n",
    "import glob\n",
    "from utils.opv import OpvModel\n",
    "mymodel2 = OpvModel('face-detection-adas-0001',device = 'CPU',fp='FP32')"
   ]
  },
  {
   "cell_type": "code",
   "execution_count": 6,
   "id": "a1c12be9",
   "metadata": {},
   "outputs": [
    {
     "name": "stderr",
     "output_type": "stream",
     "text": [
      "C:\\ProgramData\\Anaconda3\\envs\\Brain_AI\\lib\\site-packages\\ipykernel\\ipkernel.py:287: DeprecationWarning: `should_run_async` will not call `transform_cell` automatically in the future. Please pass the result to `transformed_cell` argument and any exception that happen during thetransform in `preprocessing_exc_tuple` in IPython 7.17 and above.\n",
      "  and should_run_async(code)\n"
     ]
    }
   ],
   "source": [
    "friends = cv2.imread('images/friends.JPEG')\n",
    "friends = cv2.resize(friends, (600, 400))\n",
    "predictions = mymodel2.Predict(friends)"
   ]
  },
  {
   "cell_type": "code",
   "execution_count": 7,
   "id": "5874c351",
   "metadata": {},
   "outputs": [
    {
     "name": "stderr",
     "output_type": "stream",
     "text": [
      "C:\\ProgramData\\Anaconda3\\envs\\Brain_AI\\lib\\site-packages\\ipykernel\\ipkernel.py:287: DeprecationWarning: `should_run_async` will not call `transform_cell` automatically in the future. Please pass the result to `transformed_cell` argument and any exception that happen during thetransform in `preprocessing_exc_tuple` in IPython 7.17 and above.\n",
      "  and should_run_async(code)\n"
     ]
    }
   ],
   "source": [
    "GENDERS_FOR_OPENVINO = ['Female', 'Male']"
   ]
  },
  {
   "cell_type": "code",
   "execution_count": 8,
   "id": "95f85f57",
   "metadata": {},
   "outputs": [
    {
     "name": "stderr",
     "output_type": "stream",
     "text": [
      "C:\\ProgramData\\Anaconda3\\envs\\Brain_AI\\lib\\site-packages\\ipykernel\\ipkernel.py:287: DeprecationWarning: `should_run_async` will not call `transform_cell` automatically in the future. Please pass the result to `transformed_cell` argument and any exception that happen during thetransform in `preprocessing_exc_tuple` in IPython 7.17 and above.\n",
      "  and should_run_async(code)\n"
     ]
    }
   ],
   "source": [
    "args= {\n",
    "    'xml': 'models/age-gender-recognition-retail-0013/FP32/age-gender-recognition-retail-0013.xml',\n",
    "    'bin': 'models/age-gender-recognition-retail-0013/FP32/age-gender-recognition-retail-0013.bin'\n",
    "}\n",
    "openvino_net = cv2.dnn.readNet(args[\"xml\"], args[\"bin\"])\n",
    "openvino_net.setPreferableTarget(cv2.dnn.DNN_TARGET_CPU)"
   ]
  },
  {
   "cell_type": "code",
   "execution_count": 9,
   "id": "5b3c126f",
   "metadata": {},
   "outputs": [
    {
     "name": "stderr",
     "output_type": "stream",
     "text": [
      "C:\\ProgramData\\Anaconda3\\envs\\Brain_AI\\lib\\site-packages\\ipykernel\\ipkernel.py:287: DeprecationWarning: `should_run_async` will not call `transform_cell` automatically in the future. Please pass the result to `transformed_cell` argument and any exception that happen during thetransform in `preprocessing_exc_tuple` in IPython 7.17 and above.\n",
      "  and should_run_async(code)\n"
     ]
    }
   ],
   "source": [
    "def DrawBoundingBoxes(predictions, image, conf=0.8):\n",
    "    mymodel1=OpvModel(\"age-gender-recognition-retail-0013\",device=\"CPU\",fp=\"FP32\")\n",
    "    \n",
    "    canvas=image.copy()\n",
    "    predictions_1=predictions[0][0] # numpy array 타입\n",
    "    confidence=predictions_1[:,2]   # 2번 데이터만\n",
    "    topresults=predictions_1[(confidence>conf)]  # conf 보다 큰 데이터만\n",
    "    (h,w)=canvas.shape[:2]\n",
    "    for detection in topresults:\n",
    "        box=detection[3:7]*np.array([w,h,w,h])\n",
    "        (xmin,ymin,xmax,ymax)=box.astype(\"int\")\n",
    "        img=canvas[ymin:ymax,xmin:xmax].copy()\n",
    "        blob = cv2.dnn.blobFromImage(img,size=(62,62), ddepth=cv2.CV_8U)\n",
    "        openvino_net.setInput(blob)\n",
    "        detections=openvino_net.forwardAndRetrieve(['prob', 'age_conv3'])\n",
    "        gender = GENDERS_FOR_OPENVINO[detections[0][0][0].argmax()]\n",
    "        age = detections[1][0][0][0][0][0] * 100\n",
    "        cv2.rectangle(canvas,(xmin,ymin),(xmax,ymax),(0,0,255),4)\n",
    "        text = f\"{gender}, {age:.0f}years old\"\n",
    "        if gender == 'Male':\n",
    "            color = (255, 0, 0)\n",
    "        else:\n",
    "            color = (0, 0, 255)\n",
    "        cv2.putText(canvas, text, (xmin, ymin), cv2.FONT_HERSHEY_SIMPLEX, 0.5, color, 1)\n",
    "        #cv2.putText(canvas,emo+\" \"+str(round(max_emo_val*100,1))+\"%\",(xmin,ymin),cv2.FONT_HERSHEY_SIMPLEX,0.6,(255,0,0),2)\n",
    "    #cv2.putText(canvas,str(len(topresults))+\" face(s) detected\",(50,50),cv2.FONT_HERSHEY_SIMPLEX,0.6,(255,0,0),2)\n",
    "    \n",
    "    return canvas"
   ]
  },
  {
   "cell_type": "code",
   "execution_count": 10,
   "id": "b9364482",
   "metadata": {
    "scrolled": true
   },
   "outputs": [
    {
     "name": "stderr",
     "output_type": "stream",
     "text": [
      "C:\\ProgramData\\Anaconda3\\envs\\Brain_AI\\lib\\site-packages\\ipykernel\\ipkernel.py:287: DeprecationWarning: `should_run_async` will not call `transform_cell` automatically in the future. Please pass the result to `transformed_cell` argument and any exception that happen during thetransform in `preprocessing_exc_tuple` in IPython 7.17 and above.\n",
      "  and should_run_async(code)\n",
      "C:\\Intel_JS\\openVINO\\utils\\opv.py:61: DeprecationWarning: Reading network using constructor is deprecated. Please, use IECore.read_network() method instead\n",
      "  net = IENetwork(model=model_xml, weights=model_bin)\n",
      "C:\\Intel_JS\\openVINO\\utils\\opv.py:65: DeprecationWarning: IEPlugin class is deprecated. Please use IECore class instead.\n",
      "  plugin = IEPlugin(device=device)\n"
     ]
    }
   ],
   "source": [
    "cv2.imshow(\"canvas\",DrawBoundingBoxes(predictions,friends))\n",
    "cv2.waitKey(0)\n",
    "cv2.destroyAllWindows()"
   ]
  },
  {
   "cell_type": "code",
   "execution_count": 15,
   "id": "4d9f4ab6",
   "metadata": {},
   "outputs": [
    {
     "name": "stderr",
     "output_type": "stream",
     "text": [
      "C:\\ProgramData\\Anaconda3\\envs\\Brain_AI\\lib\\site-packages\\ipykernel\\ipkernel.py:287: DeprecationWarning: `should_run_async` will not call `transform_cell` automatically in the future. Please pass the result to `transformed_cell` argument and any exception that happen during thetransform in `preprocessing_exc_tuple` in IPython 7.17 and above.\n",
      "  and should_run_async(code)\n"
     ]
    },
    {
     "ename": "ValueError",
     "evalue": "could not broadcast input array from shape (1,3,384,672) into shape (1,3,62,62)",
     "output_type": "error",
     "traceback": [
      "\u001b[1;31m---------------------------------------------------------------------------\u001b[0m",
      "\u001b[1;31mValueError\u001b[0m                                Traceback (most recent call last)",
      "\u001b[1;32m<ipython-input-15-a81be399088c>\u001b[0m in \u001b[0;36m<module>\u001b[1;34m\u001b[0m\n\u001b[0;32m      6\u001b[0m     \u001b[1;32mif\u001b[0m \u001b[1;32mnot\u001b[0m \u001b[0mret\u001b[0m\u001b[1;33m:\u001b[0m\u001b[1;33m\u001b[0m\u001b[1;33m\u001b[0m\u001b[0m\n\u001b[0;32m      7\u001b[0m         \u001b[1;32mbreak\u001b[0m\u001b[1;33m\u001b[0m\u001b[1;33m\u001b[0m\u001b[0m\n\u001b[1;32m----> 8\u001b[1;33m     \u001b[0mpredictions\u001b[0m \u001b[1;33m=\u001b[0m \u001b[0mmymodel2\u001b[0m\u001b[1;33m.\u001b[0m\u001b[0mPredict\u001b[0m\u001b[1;33m(\u001b[0m\u001b[0mframe\u001b[0m\u001b[1;33m)\u001b[0m\u001b[1;33m\u001b[0m\u001b[1;33m\u001b[0m\u001b[0m\n\u001b[0m\u001b[0;32m      9\u001b[0m     \u001b[0mcv2\u001b[0m\u001b[1;33m.\u001b[0m\u001b[0mimshow\u001b[0m\u001b[1;33m(\u001b[0m\u001b[1;34m'cam'\u001b[0m\u001b[1;33m,\u001b[0m \u001b[0mDrawBoundingBoxes\u001b[0m\u001b[1;33m(\u001b[0m\u001b[0mpredictions\u001b[0m\u001b[1;33m,\u001b[0m \u001b[0mframe\u001b[0m\u001b[1;33m)\u001b[0m\u001b[1;33m)\u001b[0m\u001b[1;33m\u001b[0m\u001b[1;33m\u001b[0m\u001b[0m\n\u001b[0;32m     10\u001b[0m \u001b[1;33m\u001b[0m\u001b[0m\n",
      "\u001b[1;32mC:\\Intel_JS\\openVINO\\utils\\opv.py\u001b[0m in \u001b[0;36mPredict\u001b[1;34m(self, image, layer)\u001b[0m\n\u001b[0;32m    101\u001b[0m         \u001b[1;33m(\u001b[0m\u001b[0mself\u001b[0m\u001b[1;33m.\u001b[0m\u001b[0moriginal\u001b[0m\u001b[1;33m,\u001b[0m\u001b[0mimage\u001b[0m\u001b[1;33m)\u001b[0m \u001b[1;33m=\u001b[0m \u001b[0mself\u001b[0m\u001b[1;33m.\u001b[0m\u001b[0mPreprocess\u001b[0m\u001b[1;33m(\u001b[0m\u001b[0mimage\u001b[0m\u001b[1;33m)\u001b[0m\u001b[1;33m\u001b[0m\u001b[1;33m\u001b[0m\u001b[0m\n\u001b[0;32m    102\u001b[0m \u001b[1;33m\u001b[0m\u001b[0m\n\u001b[1;32m--> 103\u001b[1;33m         \u001b[0mself\u001b[0m\u001b[1;33m.\u001b[0m\u001b[0mlastresult\u001b[0m \u001b[1;33m=\u001b[0m \u001b[0mself\u001b[0m\u001b[1;33m.\u001b[0m\u001b[0m_GetMachine\u001b[0m\u001b[1;33m(\u001b[0m\u001b[1;33m)\u001b[0m\u001b[1;33m.\u001b[0m\u001b[0minfer\u001b[0m\u001b[1;33m(\u001b[0m\u001b[0minputs\u001b[0m\u001b[1;33m=\u001b[0m\u001b[1;33m{\u001b[0m\u001b[0mself\u001b[0m\u001b[1;33m.\u001b[0m\u001b[0minput_layer\u001b[0m\u001b[1;33m:\u001b[0m \u001b[0mimage\u001b[0m\u001b[1;33m}\u001b[0m\u001b[1;33m)\u001b[0m \u001b[1;31m#for models with more than 1 output layer\u001b[0m\u001b[1;33m\u001b[0m\u001b[1;33m\u001b[0m\u001b[0m\n\u001b[0m\u001b[0;32m    104\u001b[0m         \u001b[0moutput\u001b[0m \u001b[1;33m=\u001b[0m \u001b[0mself\u001b[0m\u001b[1;33m.\u001b[0m\u001b[0mlastresult\u001b[0m\u001b[1;33m[\u001b[0m\u001b[0mlayer\u001b[0m\u001b[1;33m]\u001b[0m\u001b[1;33m\u001b[0m\u001b[1;33m\u001b[0m\u001b[0m\n\u001b[0;32m    105\u001b[0m         \u001b[1;32mreturn\u001b[0m \u001b[0moutput\u001b[0m                                        \u001b[1;31m# Return the default output layer\u001b[0m\u001b[1;33m\u001b[0m\u001b[1;33m\u001b[0m\u001b[0m\n",
      "\u001b[1;32mie_api.pyx\u001b[0m in \u001b[0;36mopenvino.inference_engine.ie_api.ExecutableNetwork.infer\u001b[1;34m()\u001b[0m\n",
      "\u001b[1;32mie_api.pyx\u001b[0m in \u001b[0;36mopenvino.inference_engine.ie_api.InferRequest.infer\u001b[1;34m()\u001b[0m\n",
      "\u001b[1;32mie_api.pyx\u001b[0m in \u001b[0;36mopenvino.inference_engine.ie_api.InferRequest.infer\u001b[1;34m()\u001b[0m\n",
      "\u001b[1;32mie_api.pyx\u001b[0m in \u001b[0;36mopenvino.inference_engine.ie_api.InferRequest._fill_inputs\u001b[1;34m()\u001b[0m\n",
      "\u001b[1;31mValueError\u001b[0m: could not broadcast input array from shape (1,3,384,672) into shape (1,3,62,62)"
     ]
    }
   ],
   "source": [
    "camera = cv2.VideoCapture(0)\n",
    "\n",
    "while True:\n",
    "    ret, frame = camera.read()\n",
    "    \n",
    "    if not ret:\n",
    "        break\n",
    "    predictions = mymodel2.Predict(frame)\n",
    "    cv2.imshow('cam', DrawBoundingBoxes(predictions, frame))\n",
    "    \n",
    "    if cv2.waitKey(0)&0xFF == 27:\n",
    "        break\n",
    "camera.release()\n",
    "cv2.destroyAllWindows()"
   ]
  }
 ],
 "metadata": {
  "kernelspec": {
   "display_name": "Python 3",
   "language": "python",
   "name": "python3"
  },
  "language_info": {
   "codemirror_mode": {
    "name": "ipython",
    "version": 3
   },
   "file_extension": ".py",
   "mimetype": "text/x-python",
   "name": "python",
   "nbconvert_exporter": "python",
   "pygments_lexer": "ipython3",
   "version": "3.7.10"
  }
 },
 "nbformat": 4,
 "nbformat_minor": 5
}
