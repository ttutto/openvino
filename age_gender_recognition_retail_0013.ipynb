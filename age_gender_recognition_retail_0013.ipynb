{
 "cells": [
  {
   "cell_type": "code",
   "execution_count": 174,
   "id": "2381a2ca",
   "metadata": {},
   "outputs": [
    {
     "name": "stderr",
     "output_type": "stream",
     "text": [
      "C:\\ProgramData\\Anaconda3\\envs\\Brain_AI\\lib\\site-packages\\ipykernel\\ipkernel.py:287: DeprecationWarning: `should_run_async` will not call `transform_cell` automatically in the future. Please pass the result to `transformed_cell` argument and any exception that happen during thetransform in `preprocessing_exc_tuple` in IPython 7.17 and above.\n",
      "  and should_run_async(code)\n"
     ]
    }
   ],
   "source": [
    "import cv2\n",
    "import numpy as np\n",
    "import matplotlib.pyplot as plt"
   ]
  },
  {
   "cell_type": "code",
   "execution_count": 175,
   "id": "3e3843a3",
   "metadata": {},
   "outputs": [
    {
     "name": "stderr",
     "output_type": "stream",
     "text": [
      "C:\\ProgramData\\Anaconda3\\envs\\Brain_AI\\lib\\site-packages\\ipykernel\\ipkernel.py:287: DeprecationWarning: `should_run_async` will not call `transform_cell` automatically in the future. Please pass the result to `transformed_cell` argument and any exception that happen during thetransform in `preprocessing_exc_tuple` in IPython 7.17 and above.\n",
      "  and should_run_async(code)\n",
      "C:\\Intel_JS\\openVINO\\utils\\opv.py:61: DeprecationWarning: Reading network using constructor is deprecated. Please, use IECore.read_network() method instead\n",
      "  net = IENetwork(model=model_xml, weights=model_bin)\n",
      "C:\\Intel_JS\\openVINO\\utils\\opv.py:65: DeprecationWarning: IEPlugin class is deprecated. Please use IECore class instead.\n",
      "  plugin = IEPlugin(device=device)\n"
     ]
    }
   ],
   "source": [
    "from utils.opv import OpvModel\n",
    "mymodel2=OpvModel(\"face-detection-adas-0001\",device=\"CPU\",fp=\"FP32\")"
   ]
  },
  {
   "cell_type": "code",
   "execution_count": 176,
   "id": "ecbd00c9",
   "metadata": {},
   "outputs": [
    {
     "name": "stderr",
     "output_type": "stream",
     "text": [
      "C:\\ProgramData\\Anaconda3\\envs\\Brain_AI\\lib\\site-packages\\ipykernel\\ipkernel.py:287: DeprecationWarning: `should_run_async` will not call `transform_cell` automatically in the future. Please pass the result to `transformed_cell` argument and any exception that happen during thetransform in `preprocessing_exc_tuple` in IPython 7.17 and above.\n",
      "  and should_run_async(code)\n"
     ]
    }
   ],
   "source": [
    "image = cv2.imread('images/friends.JPEG')\n",
    "predictions=mymodel2.Predict(image)"
   ]
  },
  {
   "cell_type": "code",
   "execution_count": 177,
   "id": "e30b9d8a",
   "metadata": {},
   "outputs": [
    {
     "name": "stderr",
     "output_type": "stream",
     "text": [
      "C:\\ProgramData\\Anaconda3\\envs\\Brain_AI\\lib\\site-packages\\ipykernel\\ipkernel.py:287: DeprecationWarning: `should_run_async` will not call `transform_cell` automatically in the future. Please pass the result to `transformed_cell` argument and any exception that happen during thetransform in `preprocessing_exc_tuple` in IPython 7.17 and above.\n",
      "  and should_run_async(code)\n",
      "C:\\Intel_JS\\openVINO\\utils\\opv.py:61: DeprecationWarning: Reading network using constructor is deprecated. Please, use IECore.read_network() method instead\n",
      "  net = IENetwork(model=model_xml, weights=model_bin)\n",
      "C:\\Intel_JS\\openVINO\\utils\\opv.py:65: DeprecationWarning: IEPlugin class is deprecated. Please use IECore class instead.\n",
      "  plugin = IEPlugin(device=device)\n"
     ]
    }
   ],
   "source": [
    "mymodel1=OpvModel(\"age-gender-recognition-retail-0013\",device=\"CPU\",fp=\"FP32\")"
   ]
  },
  {
   "cell_type": "code",
   "execution_count": 211,
   "id": "57caea45",
   "metadata": {},
   "outputs": [
    {
     "name": "stderr",
     "output_type": "stream",
     "text": [
      "C:\\ProgramData\\Anaconda3\\envs\\Brain_AI\\lib\\site-packages\\ipykernel\\ipkernel.py:287: DeprecationWarning: `should_run_async` will not call `transform_cell` automatically in the future. Please pass the result to `transformed_cell` argument and any exception that happen during thetransform in `preprocessing_exc_tuple` in IPython 7.17 and above.\n",
      "  and should_run_async(code)\n"
     ]
    }
   ],
   "source": [
    "def RecogBoxes(age):\n",
    "    gender_dic = {0: 'female', 1: 'male'}\n",
    "    #gender_recog = gender_dic[np.argmax(gender[0,:,0,0])]\n",
    "    age_recog = round(age[0][0][0][0] * 100, 1)\n",
    "    print(age_recog)\n",
    "    print(age)\n",
    "    return age_recog"
   ]
  },
  {
   "cell_type": "code",
   "execution_count": 212,
   "id": "5b3c126f",
   "metadata": {},
   "outputs": [
    {
     "name": "stderr",
     "output_type": "stream",
     "text": [
      "C:\\ProgramData\\Anaconda3\\envs\\Brain_AI\\lib\\site-packages\\ipykernel\\ipkernel.py:287: DeprecationWarning: `should_run_async` will not call `transform_cell` automatically in the future. Please pass the result to `transformed_cell` argument and any exception that happen during thetransform in `preprocessing_exc_tuple` in IPython 7.17 and above.\n",
      "  and should_run_async(code)\n"
     ]
    }
   ],
   "source": [
    "def DrawBoundingBoxes(predictions, image, conf=0.8):\n",
    "    mymodel1=OpvModel(\"age-gender-recognition-retail-0013\",device=\"CPU\",fp=\"FP32\")\n",
    "    \n",
    "    canvas=image.copy()\n",
    "    predictions_1=predictions[0][0] # numpy array 타입\n",
    "    confidence=predictions_1[:,2]   # 2번 데이터만\n",
    "    topresults=predictions_1[(confidence>conf)]  # conf 보다 큰 데이터만\n",
    "    (h,w)=canvas.shape[:2]\n",
    "    for detection in topresults:\n",
    "        box=detection[3:7]*np.array([w,h,w,h])\n",
    "        (xmin,ymin,xmax,ymax)=box.astype(\"int\")\n",
    "        img=canvas[ymin:ymax,xmin:xmax].copy()\n",
    "        \n",
    "        predictions_face_age = mymodel1.Predict(img)\n",
    "        age=RecogBoxes(predictions_face_age)\n",
    "        cv2.rectangle(canvas,(xmin,ymin),(xmax,ymax),(0,0,255),4)\n",
    "        #cv2.putText(canvas,emo+\" \"+str(round(max_emo_val*100,1))+\"%\",(xmin,ymin),cv2.FONT_HERSHEY_SIMPLEX,0.6,(255,0,0),2)\n",
    "    #cv2.putText(canvas,str(len(topresults))+\" face(s) detected\",(50,50),cv2.FONT_HERSHEY_SIMPLEX,0.6,(255,0,0),2)\n",
    "    \n",
    "    return canvas"
   ]
  },
  {
   "cell_type": "code",
   "execution_count": 213,
   "id": "b9364482",
   "metadata": {
    "scrolled": false
   },
   "outputs": [
    {
     "name": "stderr",
     "output_type": "stream",
     "text": [
      "C:\\ProgramData\\Anaconda3\\envs\\Brain_AI\\lib\\site-packages\\ipykernel\\ipkernel.py:287: DeprecationWarning: `should_run_async` will not call `transform_cell` automatically in the future. Please pass the result to `transformed_cell` argument and any exception that happen during thetransform in `preprocessing_exc_tuple` in IPython 7.17 and above.\n",
      "  and should_run_async(code)\n",
      "C:\\Intel_JS\\openVINO\\utils\\opv.py:61: DeprecationWarning: Reading network using constructor is deprecated. Please, use IECore.read_network() method instead\n",
      "  net = IENetwork(model=model_xml, weights=model_bin)\n",
      "C:\\Intel_JS\\openVINO\\utils\\opv.py:65: DeprecationWarning: IEPlugin class is deprecated. Please use IECore class instead.\n",
      "  plugin = IEPlugin(device=device)\n"
     ]
    },
    {
     "name": "stdout",
     "output_type": "stream",
     "text": [
      "37.1\n",
      "[[[[0.37071723]]]]\n",
      "23.5\n",
      "[[[[0.23486753]]]]\n",
      "21.1\n",
      "[[[[0.21095943]]]]\n",
      "24.8\n",
      "[[[[0.24844998]]]]\n"
     ]
    }
   ],
   "source": [
    "cv2.imshow(\"canvas\",DrawBoundingBoxes(predictions,image))\n",
    "cv2.waitKey(0)\n",
    "cv2.destroyAllWindows()"
   ]
  }
 ],
 "metadata": {
  "kernelspec": {
   "display_name": "Python 3",
   "language": "python",
   "name": "python3"
  },
  "language_info": {
   "codemirror_mode": {
    "name": "ipython",
    "version": 3
   },
   "file_extension": ".py",
   "mimetype": "text/x-python",
   "name": "python",
   "nbconvert_exporter": "python",
   "pygments_lexer": "ipython3",
   "version": "3.7.10"
  }
 },
 "nbformat": 4,
 "nbformat_minor": 5
}
