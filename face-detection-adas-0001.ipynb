{
 "cells": [
  {
   "cell_type": "code",
   "execution_count": 20,
   "id": "1a1cf24b",
   "metadata": {},
   "outputs": [
    {
     "name": "stderr",
     "output_type": "stream",
     "text": [
      "C:\\ProgramData\\Anaconda3\\envs\\Brain_AI\\lib\\site-packages\\ipykernel\\ipkernel.py:287: DeprecationWarning: `should_run_async` will not call `transform_cell` automatically in the future. Please pass the result to `transformed_cell` argument and any exception that happen during thetransform in `preprocessing_exc_tuple` in IPython 7.17 and above.\n",
      "  and should_run_async(code)\n"
     ]
    }
   ],
   "source": [
    "import cv2\n",
    "import numpy as np\n",
    "from utils.opv import OpvModel\n",
    "import winsound"
   ]
  },
  {
   "cell_type": "code",
   "execution_count": 21,
   "id": "5ce65ca5",
   "metadata": {},
   "outputs": [
    {
     "name": "stderr",
     "output_type": "stream",
     "text": [
      "C:\\ProgramData\\Anaconda3\\envs\\Brain_AI\\lib\\site-packages\\ipykernel\\ipkernel.py:287: DeprecationWarning: `should_run_async` will not call `transform_cell` automatically in the future. Please pass the result to `transformed_cell` argument and any exception that happen during thetransform in `preprocessing_exc_tuple` in IPython 7.17 and above.\n",
      "  and should_run_async(code)\n",
      "C:\\Intel_JS\\openVINO\\utils\\opv.py:61: DeprecationWarning: Reading network using constructor is deprecated. Please, use IECore.read_network() method instead\n",
      "  net = IENetwork(model=model_xml, weights=model_bin)\n",
      "C:\\Intel_JS\\openVINO\\utils\\opv.py:65: DeprecationWarning: IEPlugin class is deprecated. Please use IECore class instead.\n",
      "  plugin = IEPlugin(device=device)\n"
     ]
    }
   ],
   "source": [
    "mymodel2 = OpvModel(\"face-detection-adas-0001\", device=\"CPU\", fp=\"FP32\")"
   ]
  },
  {
   "cell_type": "code",
   "execution_count": 22,
   "id": "43cc6695",
   "metadata": {},
   "outputs": [
    {
     "name": "stderr",
     "output_type": "stream",
     "text": [
      "C:\\ProgramData\\Anaconda3\\envs\\Brain_AI\\lib\\site-packages\\ipykernel\\ipkernel.py:287: DeprecationWarning: `should_run_async` will not call `transform_cell` automatically in the future. Please pass the result to `transformed_cell` argument and any exception that happen during thetransform in `preprocessing_exc_tuple` in IPython 7.17 and above.\n",
      "  and should_run_async(code)\n"
     ]
    }
   ],
   "source": [
    "def DrawBoundingBoxes(predictions, image, conf=0.8):\n",
    "    canvas = image.copy()\n",
    "    predictions = predictions[0][0]\n",
    "    confidence = predictions[:, 2]\n",
    "    topresults = predictions[(confidence > conf)]\n",
    "    (h, w) = canvas.shape[:2]\n",
    "    for detection in topresults:\n",
    "        box = detection[3:7]*np.array([w,h,w,h])\n",
    "        (xmin,ymin,xmax,ymax) = box.astype('int')\n",
    "        cv2.rectangle(canvas,(xmin,ymin),(xmax,ymax), (0,0,255),4)\n",
    "        cv2.putText(canvas,str(round(detection[2]*100,1))+'%',(xmin,ymin),cv2.FONT_HERSHEY_SIMPLEX,0.6,(255,0,0),2)\n",
    "       #블러처리 부분\n",
    "        roi = canvas[ymin:ymax, xmin:xmax].copy() # 얼굴부분만 받아오기\n",
    "        roi = cv2.blur(roi, (30, 30)) # 얼굴부분 블러처리\n",
    "        canvas[ymin:ymax, xmin:xmax] = roi #블러처리한 부분을 원본에 다시 넣기\n",
    "    return canvas"
   ]
  },
  {
   "cell_type": "code",
   "execution_count": 19,
   "id": "029fe207",
   "metadata": {},
   "outputs": [
    {
     "name": "stderr",
     "output_type": "stream",
     "text": [
      "C:\\ProgramData\\Anaconda3\\envs\\Brain_AI\\lib\\site-packages\\ipykernel\\ipkernel.py:287: DeprecationWarning: `should_run_async` will not call `transform_cell` automatically in the future. Please pass the result to `transformed_cell` argument and any exception that happen during thetransform in `preprocessing_exc_tuple` in IPython 7.17 and above.\n",
      "  and should_run_async(code)\n"
     ]
    }
   ],
   "source": [
    "frame = cv2.imread('images/friends.JPEG')\n",
    "frame = cv2.resize(frame,(600,400))\n",
    "\n",
    "predictions = mymodel2.Predict(frame)\n",
    "cv2.imshow('img', DrawBoundingBoxes(predictions, frame))\n",
    "cv2.waitKey(0)\n",
    "cv2.destroyAllWindows()"
   ]
  },
  {
   "cell_type": "code",
   "execution_count": 44,
   "id": "6c859c32",
   "metadata": {},
   "outputs": [
    {
     "name": "stderr",
     "output_type": "stream",
     "text": [
      "C:\\ProgramData\\Anaconda3\\envs\\Brain_AI\\lib\\site-packages\\ipykernel\\ipkernel.py:287: DeprecationWarning: `should_run_async` will not call `transform_cell` automatically in the future. Please pass the result to `transformed_cell` argument and any exception that happen during thetransform in `preprocessing_exc_tuple` in IPython 7.17 and above.\n",
      "  and should_run_async(code)\n"
     ]
    }
   ],
   "source": [
    "camera = cv2.VideoCapture(0)\n",
    "\n",
    "while True:\n",
    "    ret, frame = camera.read()\n",
    "    if not ret:\n",
    "        break\n",
    "    predictions = mymodel2.Predict(frame)\n",
    "    cv2.imshow('camera', DrawBoundingBoxes(predictions, frame))\n",
    "    if cv2.waitKey(1)&0xFF == 27:\n",
    "        break\n",
    "cv2.destroyAllWindows()"
   ]
  }
 ],
 "metadata": {
  "kernelspec": {
   "display_name": "Python 3",
   "language": "python",
   "name": "python3"
  },
  "language_info": {
   "codemirror_mode": {
    "name": "ipython",
    "version": 3
   },
   "file_extension": ".py",
   "mimetype": "text/x-python",
   "name": "python",
   "nbconvert_exporter": "python",
   "pygments_lexer": "ipython3",
   "version": "3.7.10"
  }
 },
 "nbformat": 4,
 "nbformat_minor": 5
}
